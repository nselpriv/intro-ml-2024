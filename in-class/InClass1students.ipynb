{
  "metadata": {
    "kernelspec": {
      "display_name": "Python",
      "language": "python3",
      "name": "python3"
    },
    "language_info": {
      "codemirror_mode": {
        "name": "ipython",
        "version": 3
      },
      "file_extension": "py",
      "mimetype": "text/x-python",
      "name": "python"
    }
  },
  "nbformat": 4,
  "nbformat_minor": 5,
  "cells": [
    {
      "cell_type": "code",
      "id": "css_setup",
      "metadata": {
        "jupyter": {
          "source_hidden": true
        }
      },
      "source": [
        "import requests\n",
        "from IPython.core.display import HTML\n",
        "HTML(f\"\"\"\n",
        "<style>\n",
        "@import \"https://cdn.jsdelivr.net/npm/bulma@0.9.4/css/bulma.min.css\";\n",
        "</style>\n",
        "\"\"\")"
      ],
      "execution_count": 0,
      "outputs": []
    },
    {
      "cell_type": "markdown",
      "id": "wQcVSGMMSRaMh5IvqgD2o",
      "metadata": {},
      "source": [
        "# In-class - Week 1\n",
        "\n",
        "<article class=\"message\">\n",
        "    <div class=\"message-body\">\n",
        "        <strong>Overview of tasks</strong>\n",
        "        <ul style=\"list-style: none;\">\n",
        "            <li>\n",
        "            <a href=\"#dist\">Task 1: Distances and inner products</a>\n",
        "            </li>\n",
        "            <li>\n",
        "            <a href=\"#eval\">Task 2: Evaluating models</a>\n",
        "            </li>\n",
        "            <li>\n",
        "            <a href=\"#modeleq\">Task 3: Model equations</a>\n",
        "            </li>\n",
        "        </ul>\n",
        "    </div>\n",
        "</article>\n",
        "\n",
        "\n",
        "---\n",
        "**Task 1 (easy): Distances and inner products💡**\n",
        "Exercise 1 - go to grasple W01\n",
        "\n",
        "---\n",
        "---\n",
        "**Task 2 (easy): Evaluating models💡**\n",
        "Exercise 2 - go to grasple W01 \n",
        "\n",
        "---\n",
        "---\n",
        "**Task 3 (easy): Model equations💡**\n",
        "Exercise 3 - go to grasple W01\n",
        "\n",
        "---"
      ]
    }
  ]
}