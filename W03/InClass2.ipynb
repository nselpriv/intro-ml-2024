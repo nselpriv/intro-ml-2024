{
  "metadata": {
    "kernelspec": {
      "display_name": "Python",
      "language": "python3",
      "name": "python3"
    },
    "language_info": {
      "codemirror_mode": {
        "name": "ipython",
        "version": 3
      },
      "file_extension": "py",
      "mimetype": "text/x-python",
      "name": "python"
    }
  },
  "nbformat": 4,
  "nbformat_minor": 5,
  "cells": [
    {
      "cell_type": "code",
      "id": "css_setup",
      "metadata": {
        "jupyter": {
          "source_hidden": true
        }
      },
      "source": [
        "import requests\n",
        "from IPython.core.display import HTML\n",
        "HTML(f\"\"\"\n",
        "<style>\n",
        "@import \"https://cdn.jsdelivr.net/npm/bulma@0.9.4/css/bulma.min.css\";\n",
        "</style>\n",
        "\"\"\")"
      ],
      "execution_count": 0,
      "outputs": []
    },
    {
      "cell_type": "markdown",
      "id": "RruwHEFJHnSn5UkW6_UmI",
      "metadata": {},
      "source": [
        "# In-class - Week 2\n",
        "\n",
        "<article class=\"message\">\n",
        "    <div class=\"message-body\">\n",
        "        <strong>Overview of tasks</strong>\n",
        "        <ul style=\"list-style: none;\">\n",
        "            <li>\n",
        "            <a href=\"#lincomb\">Task 1: Linear combinations</a>\n",
        "            </li>\n",
        "            <li>\n",
        "            <a href=\"#matvec\">Task 2: Matrix-vector multiplication</a>\n",
        "            </li>\n",
        "            <li>\n",
        "            <a href=\"#matmul\">Task 3: Matrix-matrix multiplication</a>\n",
        "            </li>\n",
        "        </ul>\n",
        "    </div>\n",
        "</article>\n",
        "\n",
        "\n",
        "---\n",
        "**Task 1 (easy): Linear combinations💡**\n",
        "[Exercise 1](https://app.grasple.com/#/courses/10532/ci/694302/subjects/13499)\n",
        "\n",
        "\n",
        "---\n",
        "---\n",
        "**Task 2 (easy): Matrix-vector multiplication💡**\n",
        "[Exercise 2](https://app.grasple.com/#/courses/10532/ci/694303/subjects/13501)\n",
        " \n",
        "\n",
        "---\n",
        "---\n",
        "**Task 3 (easy): Matrix-matrix multiplication💡**\n",
        "[Exercise 3](https://app.grasple.com/#/courses/10532/ci/694304/subjects/13500)\n",
        "\n",
        "\n",
        "---"
      ]
    }
  ]
}