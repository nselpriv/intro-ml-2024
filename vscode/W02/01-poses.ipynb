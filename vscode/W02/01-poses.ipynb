{
  "metadata": {
    "kernelspec": {
      "display_name": "Python",
      "language": "python3",
      "name": "python3"
    },
    "language_info": {
      "codemirror_mode": {
        "name": "ipython",
        "version": 3
      },
      "file_extension": "py",
      "mimetype": "text/x-python",
      "name": "python"
    }
  },
  "nbformat": 4,
  "nbformat_minor": 5,
  "cells": [
    {
      "cell_type": "code",
      "id": "css_setup",
      "metadata": {
        "jupyter": {
          "source_hidden": true
        }
      },
      "source": [
        "import requests\n",
        "from IPython.core.display import HTML\n",
        "HTML(f\"\"\"\n",
        "<style>\n",
        "@import \"https://cdn.jsdelivr.net/npm/bulma@0.9.4/css/bulma.min.css\";\n",
        "</style>\n",
        "\"\"\")"
      ],
      "execution_count": 0,
      "outputs": []
    },
    {
      "cell_type": "markdown",
      "id": "TQwdmiRV_Al9uiyVwzEza",
      "metadata": {},
      "source": [
        "# Evaluating poses\n",
        "\n",
        "<article class=\"message\">\n",
        "    <div class=\"message-body\">\n",
        "        <strong>Overview of tasks</strong>\n",
        "        <ul style=\"list-style: none;\">\n",
        "            <li>\n",
        "            <a href=\"#inspect\">Task 1: Visually inspect and compare poses</a>\n",
        "            </li>\n",
        "            <li>\n",
        "            <a href=\"#dist\">Task 2: Calculate pose distance</a>\n",
        "            </li>\n",
        "            <li>\n",
        "            <a href=\"#comparison\">Task 3: Mandatory task</a>\n",
        "            </li>\n",
        "            <li>\n",
        "            <a href=\"#comparison2\">Task 4: Compare poses</a>\n",
        "            </li>\n",
        "        </ul>\n",
        "    </div>\n",
        "</article>\n",
        "\n",
        "In this exercise you will compare distances between high-dimensional vectors of human poses (from a dataset of badminton poses). The dataset contains 18 sample poses, each defined by 25 points $(x_i, y_i)$. Your task is to calculate the Euclidean distance ($L_2$-norm) between all poses.\n",
        "The dataset is loaded and stored in an $18\\times 50$-dimensional Numpy array:\n",
        ""
      ]
    },
    {
      "cell_type": "code",
      "id": "EfTJVmsovMuIwQBdUqWLN",
      "metadata": {},
      "source": [
        "import numpy as np\n",
        "import matplotlib.pyplot as plt\n",
        "\n",
        "poses = np.load(\"data/poses.npy\")"
      ],
      "execution_count": 0,
      "outputs": []
    },
    {
      "cell_type": "markdown",
      "id": "d9-peQa56xu1X92kIpm1z",
      "metadata": {},
      "source": [
        "Each row in `poses`\n",
        " has the form $x_1, y_1, x_2, y_2, \\dots, x_{25}, y_{25}$, i.e. it is a list of $50$ elements constituting $25$ points:\n",
        ""
      ]
    },
    {
      "cell_type": "code",
      "id": "fdTi82fEGlFavdTRj7w-X",
      "metadata": {},
      "source": [
        "# Get the first pose and print it\n",
        "print(poses[0])"
      ],
      "execution_count": 0,
      "outputs": []
    },
    {
      "cell_type": "markdown",
      "id": "aWcfuCYyPC_fheRWFSrrV",
      "metadata": {},
      "source": [
        "_Note that the output above is still a 1D array, it is simply printed over multiple lines_\n",
        "The following cell contains a set of functions for plotting the poses. You do not need to study these - simply skip to the next section:\n",
        ""
      ]
    },
    {
      "cell_type": "code",
      "id": "MF_-e6LmvlObKqsqEkzJc",
      "metadata": {},
      "source": [
        "def limb_number_plot(s_pose_x,s_pose_y,n1,n2,c=\"red\",label=None,axis = None):\n",
        "  if label is not None:\n",
        "    if (s_pose_x[n1]>-10.0) and (s_pose_x[n2]>-10.0) and (s_pose_y[n1]>-10.0) and (s_pose_y[n2]>-10.0): \n",
        "        axis.plot([s_pose_x[n1],s_pose_x[n2]], [s_pose_y[n1], s_pose_y[n2]],color = c, linestyle=\"-\",label=label)\n",
        "  else:\n",
        "    if (s_pose_x[n1]>-10.0) and (s_pose_x[n2]>-10.0) and (s_pose_y[n1]>-10.0) and (s_pose_y[n2]>-10.0): \n",
        "        axis.plot([s_pose_x[n1],s_pose_x[n2]], [s_pose_y[n1], s_pose_y[n2]],color = c, linestyle=\"-\")\n",
        "\n",
        "def plot_single_pose(s_pose, a, c = \"darkgreen\", label=None, head = True):\n",
        "    s_pose_x=s_pose[::2]\n",
        "    s_pose_y=s_pose[1::2]\n",
        "    limb_number_plot(s_pose_x,s_pose_y,2,5,c,axis=a)\n",
        "    if label is not None:\n",
        "\n",
        "        limb_number_plot(s_pose_x,s_pose_y,9,12,c,label,axis=a)\n",
        "    else:\n",
        "        limb_number_plot(s_pose_x,s_pose_y,9,12,c,axis=a)\n",
        "    limb_number_plot(s_pose_x,s_pose_y,2,9,c,axis=a)\n",
        "    limb_number_plot(s_pose_x,s_pose_y,5,12,c,axis=a)\n",
        "\n",
        "    limb_number_plot(s_pose_x,s_pose_y,2,3,c,axis=a)\n",
        "    limb_number_plot(s_pose_x,s_pose_y,3,4,c,axis=a)\n",
        "\n",
        "    limb_number_plot(s_pose_x,s_pose_y,5,6,c,axis=a)\n",
        "    limb_number_plot(s_pose_x,s_pose_y,6,7,c,axis=a)\n",
        "\n",
        "    #left leg / foot\n",
        "    limb_number_plot(s_pose_x,s_pose_y,9,10,c,axis=a)\n",
        "    limb_number_plot(s_pose_x,s_pose_y,10,11,c,axis=a)\n",
        "    limb_number_plot(s_pose_x,s_pose_y,11,22,c,axis=a)\n",
        "\n",
        "    #right leg / foot\n",
        "    limb_number_plot(s_pose_x,s_pose_y,12,13,c,axis=a)\n",
        "    limb_number_plot(s_pose_x,s_pose_y,13,14,c,axis=a)\n",
        "    limb_number_plot(s_pose_x,s_pose_y,14,19,c,axis=a)\n",
        "\n",
        "    # head\n",
        "    if head:\n",
        "        limb_number_plot(s_pose_x,s_pose_y,0,15,c,axis=a)\n",
        "        limb_number_plot(s_pose_x,s_pose_y,0,16,c,axis=a)\n",
        "\n",
        "        limb_number_plot(s_pose_x,s_pose_y,15,17,c,axis=a)\n",
        "        limb_number_plot(s_pose_x,s_pose_y,16,18,c,axis=a)\n",
        "    return True"
      ],
      "execution_count": 0,
      "outputs": []
    },
    {
      "cell_type": "markdown",
      "id": "HdRI9nVdEdKev-leoSrH_",
      "metadata": {},
      "source": [
        "The cell below visualises each pose in the dataset:\n",
        ""
      ]
    },
    {
      "cell_type": "code",
      "id": "6jUd67Ks7wiAju19Jco-A",
      "metadata": {},
      "source": [
        "# Create a 6x3 grid of subplots\n",
        "fig, ax = plt.subplots(3, 6, figsize=(14, 8))\n",
        "\n",
        "for i, p in enumerate(poses):\n",
        "    axis = ax[i//6, i%6] # Select the appropriate subplot\n",
        "    plot_single_pose(p, axis)\n",
        "\n",
        "    axis.set_title(i)\n",
        "    axis.set_xlim(-5, 5)\n",
        "    axis.set_ylim(3,-3)\n",
        "\n",
        "\n",
        "plt.tight_layout()"
      ],
      "execution_count": 0,
      "outputs": []
    },
    {
      "cell_type": "markdown",
      "id": "ThGIevXCRt_zYxSmsA4_w",
      "metadata": {},
      "source": [
        "\n",
        "---\n",
        "**Task 1 (easy): Visually inspect and compare poses💡**\n",
        "This task involves visual inspection of the poses.\n",
        "1. Choose the three pairs of poses that look most similar and note their indices.\n",
        "2. Choose the three pairs of poses that look least similar and note their indices.\n",
        "\n",
        "\n",
        "---\n",
        "---\n",
        "**Task 2 (easy): Calculate pose distance👩‍💻**\n",
        "In this task you will calculate the Euclidean distance ($L_2$ norm) between all the poses. Note that the distance is symmetric, such that the distance between pairs (a, b) and (b, a) are the same.\n",
        "1. In the cell below, calculate the Euclidean distance between each combination of poses and store the result in an $18\\times 18$ matrix called `res`\n",
        " (the name is important as the variable is used below) such that the distance between `poses[i]`\n",
        " and `poses[j]`\n",
        " is in position $i, j$ in the matrix.\n",
        "\n",
        "\n",
        "---"
      ]
    },
    {
      "cell_type": "code",
      "id": "4giAGrNVqbepn38dcJTFu",
      "metadata": {},
      "source": [
        "# Write your solution here"
      ],
      "execution_count": 0,
      "outputs": []
    },
    {
      "cell_type": "markdown",
      "id": "uiOncBZzxbQodIHgRWFh2",
      "metadata": {},
      "source": [
        "The following cell creates an 18x18 distance matrix: \n",
        ""
      ]
    },
    {
      "cell_type": "code",
      "id": "oi0sOaOmCsaQy7c2cVYf5",
      "metadata": {},
      "source": [
        "import seaborn as sns\n",
        "t = np.triu(np.ones_like(res))\n",
        "sns.heatmap(res, annot=True, mask=t)"
      ],
      "execution_count": 0,
      "outputs": []
    },
    {
      "cell_type": "markdown",
      "id": "A4FYKQZ0sONnJj1bSnpyT",
      "metadata": {},
      "source": [
        "\n",
        "---\n",
        "**Task 3 (medium): Mandatory task👩‍💻**\n",
        "The mandatory part of the exercise has to be entered in [Grasple](https://app.grasple.com/#/courses/10532/ci/733917/diagnoses/12885)\n",
        " and requires you to complete question 1.\n",
        "1. Determine the three most similar pose-pairs using the distances calculated in the distance matrix `res`\n",
        " and plot them using the plotting function `plot_pair`\n",
        ".\n",
        "2. Determine the three most dissimilar pose-pairs using the distances calculated in the distance matrix `res`\n",
        " and plot them.\n",
        "\n",
        "\n",
        "---"
      ]
    },
    {
      "cell_type": "code",
      "id": "bjV-A7d9gx7JmMdHDdiPr",
      "metadata": {},
      "source": [
        "def plot_single(ax, i, p):\n",
        "    ax.scatter(p[:, 0], p[:, 1]) # Plot the pose coordinates\n",
        "\n",
        "    ax.set_title(i)\n",
        "    ax.set_xlim(-5, 5)\n",
        "    ax.set_ylim(3,-3)\n",
        "\n",
        "def plot_pair(a, b):\n",
        "    \"\"\"Plot two poses side by side. a and b are indices.\n",
        "    \"\"\"\n",
        "    fig, ax = plt.subplots(1, 2)\n",
        "\n",
        "    ap = poses[a]\n",
        "    bp = poses[b]\n",
        "\n",
        "    plot_single_pose(ap, ax[0])\n",
        "    plot_single_pose(bp, ax[1])\n",
        "    #plot_single(ax[0], a, ap)\n",
        "    #plot_single(ax[1], b, bp)\n",
        "\n",
        "# Write your solution here"
      ],
      "execution_count": 0,
      "outputs": []
    },
    {
      "cell_type": "markdown",
      "id": "i3gn4ABMMO91XU2jniFWL",
      "metadata": {},
      "source": [
        "\n",
        "---\n",
        "**Task 4 (medium): Compare poses💡**\n",
        "1. Compare the pose-pairs you chose in [Task 1](#inspect) with the calculated pose-pairs. How well did your intuition match the calculated result?\n",
        "\n",
        "\n",
        "---"
      ]
    },
    {
      "cell_type": "code",
      "id": "ynan1l3D683l22QyVaqYn",
      "metadata": {},
      "source": [
        "# write your reflections here"
      ],
      "execution_count": 0,
      "outputs": []
    },
    {
      "cell_type": "markdown",
      "id": "uRgcEebvP4KFrJOmH3YMk",
      "metadata": {},
      "source": [
        ""
      ]
    }
  ]
}