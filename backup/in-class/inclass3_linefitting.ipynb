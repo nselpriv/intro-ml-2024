{
  "metadata": {
    "kernelspec": {
      "display_name": "Python",
      "language": "python3",
      "name": "python3"
    },
    "language_info": {
      "codemirror_mode": {
        "name": "ipython",
        "version": 3
      },
      "file_extension": "py",
      "mimetype": "text/x-python",
      "name": "python"
    }
  },
  "nbformat": 4,
  "nbformat_minor": 5,
  "cells": [
    {
      "cell_type": "code",
      "id": "css_setup",
      "metadata": {
        "jupyter": {
          "source_hidden": true
        }
      },
      "source": [
        "import requests\n",
        "from IPython.core.display import HTML\n",
        "HTML(f\"\"\"\n",
        "<style>\n",
        "@import \"https://cdn.jsdelivr.net/npm/bulma@0.9.4/css/bulma.min.css\";\n",
        "</style>\n",
        "\"\"\")"
      ],
      "execution_count": 0,
      "outputs": []
    },
    {
      "cell_type": "markdown",
      "id": "qzStZS4CMGrQT5JqvZtYn",
      "metadata": {},
      "source": [
        "# Line fitting the matrix way\n",
        "This in-class exercise walks you through the following steps to fit a line to several datasets:\n",
        "1. Create the datasets.\n",
        "2. Construct design matrices.\n",
        "3. Compute the weights using matrix inversion.\n",
        "4. Plot the data and the fitted line.\n",
        "\n",
        "## Linear (line) models\n",
        "\n",
        "---\n",
        "**Task 1 (easy): Identifying parameters👩‍💻**\n",
        "1. Run the cell below to load the neccessary libraries and to construct the datasets.\n",
        "\n",
        "2. Identify the inputs and the labels of each dataset. \n",
        "\n",
        "\n",
        "\n",
        "---"
      ]
    },
    {
      "cell_type": "code",
      "id": "9fhzYNkMLqUI9HdWsZICi",
      "metadata": {},
      "source": [
        "import numpy as np\n",
        "import matplotlib.pyplot as plt\n",
        "\n",
        "dataset_1 = np.array([[10, 2], [9, 6]])\n",
        "dataset_2 = np.array([[5, 1], [7, 5]])\n",
        "dataset_3 = np.array([[4, 2], [5, 3]])"
      ],
      "execution_count": 0,
      "outputs": []
    },
    {
      "cell_type": "markdown",
      "id": "uaJnswN4Y748rZklN7SNe",
      "metadata": {},
      "source": [
        "\n",
        "---\n",
        "**Task 2 (easy): Identifying parameters and constructing the design matrix👩‍💻**\n",
        "1. Complete the `separate_inputs_labels`\n",
        " function below. The function should take a dataset as input and return the inputs and labels separated into separate variables. The function should return a matrix `X`\n",
        " containing the inputs and an array `y`\n",
        " containing the labels. Use the function to obtain the inputs and labels for each dataset.\n",
        "\n",
        "\n",
        "**Hint**\n",
        "Slicing might be helpful here.\n",
        "\n",
        "2. Complete the code below and construct the design matrix for the other datasets. Print your results.\n",
        "\n",
        "\n",
        "---"
      ]
    },
    {
      "cell_type": "code",
      "id": "zjw7JNkG08YTQDkkSxZZv",
      "metadata": {},
      "source": [
        "def separate_inputs_labels(dataset):\n",
        "    \"\"\"\n",
        "    This function takes a dataset as input and returns the inputs and labels.\n",
        "    \n",
        "    Parameters:\n",
        "    dataset (numpy array): The dataset to be separated.\n",
        "    \n",
        "    Returns:\n",
        "    X (numpy array): The input matrix.\n",
        "    y (numpy array): The labels array.\n",
        "    \"\"\"\n",
        "    \n",
        "    ...\n",
        "    # return the results as a tuple\n",
        "    return X, y\n",
        "\n",
        "# construct the design matrix    \n",
        "X1_design = None\n",
        "\n",
        "# Print the datasets\n",
        "print(\"X1 = \\n\",X1)\n",
        "print(\"y1 =\", y1)\n",
        "print(\"Design Matrix for Dataset 1:\\n\", X1_design)"
      ],
      "execution_count": 0,
      "outputs": []
    },
    {
      "cell_type": "markdown",
      "id": "Eo041NzGQuN0krQX0opYu",
      "metadata": {},
      "source": [
        "\n",
        "---\n",
        "**Task 3 (easy): Solve for model parameters👩‍💻**\n",
        "1. Find the inverse of the design matrix for each dataset constructed above.\n",
        "2. Calculate the model weights, then print your results.\n",
        "3. Use the `plot_model`\n",
        " function to plot your results.\n",
        "4. Visually inspect the plots and interpret the meaning and influence of each term.\n",
        "\n",
        "\n",
        "---"
      ]
    },
    {
      "cell_type": "code",
      "id": "VJdDVXisMKtXnGHOMjfvy",
      "metadata": {},
      "source": [
        "print(\"Weights for Dataset 1:\", wieghts1)\n",
        "\n",
        "# Function to plot data points and fitted line\n",
        "def plot_model(X, y, wieghts, dataset_name):\n",
        "    # Plot the data points\n",
        "    plt.scatter(X, y, color='blue', label='Given Points')\n",
        "    \n",
        "    # Extend x_vals range to include zero for correct y-intercept visualization\n",
        "    x_vals = np.linspace(0, max(X) + 1, 100)\n",
        "    y_vals = wieghts[0] * x_vals + wieghts[1]\n",
        "    \n",
        "    # Plot the fitted line\n",
        "    plt.plot(x_vals, y_vals, color='red', label=f'Line: y = {wieghts[0]:.2f}x + {wieghts[1]:.2f}')\n",
        "    \n",
        "    # Plot the y-intercept\n",
        "    plt.scatter(0, wieghts[1], color='green', zorder=5, label=f'Y-intercept (0, {wieghts[1]:.2f})')\n",
        "    \n",
        "    # Add title and labels\n",
        "    plt.title(dataset_name)\n",
        "    plt.xlabel('X')\n",
        "    plt.ylabel('y')\n",
        "    plt.legend()\n",
        "    plt.grid(True)\n",
        "    plt.show()\n",
        "    \n",
        "\n",
        "plot_model(X1, y1, wieghts1, 'Dataset 1')"
      ],
      "execution_count": 0,
      "outputs": []
    },
    {
      "cell_type": "markdown",
      "id": "I7ZQ3ZKwZ3TW7afwmOjc7",
      "metadata": {},
      "source": [
        "If you have more time, complete the next task.\n",
        "\n",
        "---\n",
        "**Task 4 (easy): A new dataset👩‍💻♾️💡**\n",
        "Run the cell below to define a new dataset.\n",
        "1. Identify the inputs and the labels, then reuse the code from previous tasks to construct a design matrix.\n",
        "2. Calculate the inverse of the design matrix. This step should result in an error. What are the possible reasons for getting this error?\n",
        "\n",
        "**Note:** For pedagogical reasons, next week we will return to this dataset, as you will have the necessary tools to fit a model for this scenario.\n",
        "\n",
        "\n",
        "---"
      ]
    },
    {
      "cell_type": "code",
      "id": "42g8Tt743__cE9lLFXcv3",
      "metadata": {},
      "source": [
        "dataset_4 = np.array([[9, 1], [7, 2],[3, 8], [1, 3],[4, 3]])"
      ],
      "execution_count": 0,
      "outputs": []
    },
    {
      "cell_type": "markdown",
      "id": "UZlmkRlOuxN_sFryv812y",
      "metadata": {},
      "source": [
        ""
      ]
    }
  ]
}