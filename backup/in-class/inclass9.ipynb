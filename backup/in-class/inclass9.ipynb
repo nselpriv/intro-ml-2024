{
  "metadata": {
    "kernelspec": {
      "display_name": "Python",
      "language": "python3",
      "name": "python3"
    },
    "language_info": {
      "codemirror_mode": {
        "name": "ipython",
        "version": 3
      },
      "file_extension": "py",
      "mimetype": "text/x-python",
      "name": "python"
    }
  },
  "nbformat": 4,
  "nbformat_minor": 5,
  "cells": [
    {
      "cell_type": "code",
      "id": "css_setup",
      "metadata": {
        "jupyter": {
          "source_hidden": true
        }
      },
      "source": [
        "import requests\n",
        "from IPython.core.display import HTML\n",
        "HTML(f\"\"\"\n",
        "<style>\n",
        "@import \"https://cdn.jsdelivr.net/npm/bulma@0.9.4/css/bulma.min.css\";\n",
        "</style>\n",
        "\"\"\")"
      ],
      "execution_count": 0,
      "outputs": []
    },
    {
      "cell_type": "markdown",
      "id": "6Eqe82wv_79vEiZygaE1C",
      "metadata": {},
      "source": [
        "# Principal Component Analysis (PCA)\n",
        "In this in-class exercise you will be guided through the steps necessary for implementing a PCA on a sequence of human poses. You will work with the poses data, which was used for the exercises in week 2\n",
        ". The dataset has a shape of $(1403, 100, 25*2)$. This means that there are 1403 pose sequences. Each sequence is a 100-frames time series capturing human poses. Each pose consists of 25 skeletal joints, where each joint is an x and y coordinate ($25*2$). For this exercise, you will use a single pose sequence of 100 frames and apply dimension reduction to the selected sequence. \n",
        "The following cells loads the libraries, the dataset and provides functions for plotting the poses:\n",
        ""
      ]
    },
    {
      "cell_type": "code",
      "id": "boinaRzbU__Y09Gu7ASc4",
      "metadata": {},
      "source": [
        "import numpy as np\n",
        "import matplotlib.pyplot as plt\n",
        "import warnings\n",
        "import seaborn as sns\n",
        "from pca_utils import *\n",
        "\n",
        "# Suppress the specific warning\n",
        "warnings.filterwarnings(\"ignore\")"
      ],
      "execution_count": 0,
      "outputs": []
    },
    {
      "cell_type": "markdown",
      "id": "l0K3uu3lZa98DSW_dQckj",
      "metadata": {},
      "source": [
        "## 1. Data inspection\n",
        "The cell below:\n",
        "1. Loads the data and constructs the data matrix.\n",
        "2. Reshapes the data into a $100x50$ data-matrix where each row contains a flattened vector of a pose.\n",
        "3. Selects the first 40 frames from a single pose sequence and plot it.\n",
        "\n",
        "\n",
        "---\n",
        "**Task 1 (easy): Loading and inspecting the data👩‍💻**\n",
        "1. Run the code cell below.\n",
        "2. Change the code to display the sequences 4,5,7 and visually observe how these sequences vary. \n",
        "\n",
        "\n",
        "---"
      ]
    },
    {
      "cell_type": "code",
      "id": "FXq0NZV5axQ6WLXitWXxw",
      "metadata": {},
      "source": [
        "data = np.load('poses_norm.npy')\n",
        "print(data.shape)\n",
        "N,T,D,C = data.shape\n",
        "reshaped_data = data.reshape(N,T,D*C)\n",
        "dataset = reshaped_data[19]\n",
        "print(reshaped_data.shape)\n",
        "\n",
        "# Define the new desired shape (40, 50)\n",
        "nr_of_frames=40\n",
        "new_shape = (nr_of_frames, 50)\n",
        "# Reshape the array to the new shape\n",
        "reshaped_data2 = np.empty(new_shape)  # Create an empty array with the new shape\n",
        "reshaped_data2[:] = dataset[:new_shape[0], :]  \n",
        "\n",
        "plot_single_sequence(reshaped_data2,pose_name='Pose',color='blue')"
      ],
      "execution_count": 0,
      "outputs": []
    },
    {
      "cell_type": "markdown",
      "id": "nGzGkVW2wc5YOCMvqjheQ",
      "metadata": {},
      "source": [
        "## 2. Covariance matrix\n",
        "In the following tasks you will construct and inspect the covariance matrix for a given pose sequence. \n",
        "\n",
        "---\n",
        "**Task 2 (easy): Covariance matrix - NumPy method👩‍💻**\n",
        "1. Run the cell below to obtain and plot the covariance matrix. \n",
        "2. What does the heatmap tell us about the relationship between the variables (skeletal joint coordinates)? \n",
        "\n",
        "\n",
        "---"
      ]
    },
    {
      "cell_type": "code",
      "id": "WSA2FqQxXtJexa-xxCIpx",
      "metadata": {},
      "source": [
        "# Calculate the covariance matrix for the entire dataset\n",
        "cov_matrix = np.cov(dataset, rowvar=False)\n",
        "# Plotting\n",
        "sns.heatmap(cov_matrix, cmap='coolwarm')"
      ],
      "execution_count": 0,
      "outputs": []
    },
    {
      "cell_type": "markdown",
      "id": "H-Jd5XZ9ccjymoF3_CTI0",
      "metadata": {},
      "source": [
        "Currently, the dataset is organized by frames, with each frame having alternating x and y coordinates in the order:  $[x_1, y_1, x_2, y_2, \\dots, x_{25}, y_{25}]$. The cell below rearranges the data for illustrative purposes, grouping all x-coordinates first, followed by all y-coordinates: $[x_1, x_2, \\dots, x_{25}, y_1, y_2, \\dots, y_{25}]$.\n",
        ""
      ]
    },
    {
      "cell_type": "code",
      "id": "_D42Fu4kipNElnbg1isA6",
      "metadata": {},
      "source": [
        "# Get the number of rows and columns in the dataset\n",
        "num_rows, num_columns = dataset.shape\n",
        "\n",
        "# Separate even and odd columns\n",
        "even_indexes = np.arange(0, num_columns, 2)  # Even indexes (0, 2, 4, ...)\n",
        "odd_indexes = np.arange(1, num_columns, 2)   # Odd indexes (1, 3, 5, ...)\n",
        "\n",
        "# Rearrange the dataset\n",
        "rearranged_dataset = dataset[:, np.concatenate((even_indexes, odd_indexes))]"
      ],
      "execution_count": 0,
      "outputs": []
    },
    {
      "cell_type": "markdown",
      "id": "BZplh6Mud8f4rU_PMUKhM",
      "metadata": {},
      "source": [
        "\n",
        "---\n",
        "**Task 3 (easy): Covariance matrix - rearranged data👩‍💻**\n",
        "1. Run the cell below to obtain and plot the covariance matrix of the rearranged data. \n",
        "\n",
        "\n",
        "---"
      ]
    },
    {
      "cell_type": "code",
      "id": "zrCAqCC2bW9Q1TN0QsNGl",
      "metadata": {},
      "source": [
        "cov_matrix = np.cov(rearranged_dataset, rowvar=False)\n",
        "sns.heatmap(cov_matrix, cmap='coolwarm')"
      ],
      "execution_count": 0,
      "outputs": []
    },
    {
      "cell_type": "markdown",
      "id": "IPSeilaA7DETpKXo8JXUE",
      "metadata": {},
      "source": [
        "\n",
        "---\n",
        "**Task 4 (medium): Implement your own covariance matrix _(optional)_👩‍💻**\n",
        "The following task should only be completed if you have extra time and want to try constructing the covariance matrix yourself. Use the `rearranged_dataset`\n",
        " to:\n",
        "1. Construct the covariance matrix $\\mathbf{C}$:\n",
        "\n",
        "\n",
        "$$\n",
        "\n",
        "\\mathbf{C} = \\frac{1}{N} \\sum_{i=1}^{N} (\\mathbf{x}_i - \\boldsymbol{\\bar{x}})(\\mathbf{x}_i - \\boldsymbol{\\bar{x}})^\\top\n",
        "\n",
        "$$\n",
        "where $\\mathbf{x}_i$ represents the $i$-th coordinate in the dataset and $\\boldsymbol{\\bar{x}}$ is the mean vector obtained by averaging the coordinates for each joint $\\boldsymbol{\\bar{x}} = \\frac{1}{N} \\sum_{i=1}^{N} \\mathbf{x}_i$\n",
        "\n",
        "**Hint**\n",
        "To center the data first calculate the mean vector, then subtract it from each data point of the pose sequence.\n",
        "\n",
        "2. Create a heatmap of the covariance matrix.\n",
        "3. Compare the covariance matrix obtained in this task to the one obtained in the previous task. How and why are they similar/different?\n",
        "\n",
        "\n",
        "---"
      ]
    },
    {
      "cell_type": "code",
      "id": "dq5QHj_PTIg2bYxj5T68v",
      "metadata": {},
      "source": [
        "# write your solution here"
      ],
      "execution_count": 0,
      "outputs": []
    },
    {
      "cell_type": "markdown",
      "id": "0OJJ9AGR_Efdf2WmsX1yZ",
      "metadata": {},
      "source": [
        "\n",
        "---\n",
        "**Task 5 (easy): Reflection _(optional)_💡**\n",
        "1. How would you change the above pipeline for obtaining the covariance matrix for all of the 1403 pose sequences? \n",
        "\n",
        "\n",
        "---## 3. Eigenvalues and eigenvectors\n",
        "The following steps involve implementing the eigen decomposition of the covariance matrix.\n",
        "\n",
        "---\n",
        "**Task 6 (easy): Eigen decomposition👩‍💻**\n",
        "1. Run the cell below to find the eigenvalues and eigenvectors of the covariance matrix.\n",
        "2. Plot the eigenvalues as in the plot below.\n",
        "\n",
        "\n",
        "---"
      ]
    },
    {
      "cell_type": "code",
      "id": "OvoaolBOm6UhJ44g3EnO3",
      "metadata": {},
      "source": [
        "eigenvalues, eigenvectors = np.linalg.eigh(cov_matrix)\n",
        "\n",
        "# write your solution here"
      ],
      "execution_count": 0,
      "outputs": []
    },
    {
      "cell_type": "markdown",
      "id": "s8z1V1-F-J5zR9eCTacMa",
      "metadata": {},
      "source": [
        "\n",
        "---\n",
        "**Task 7 (easy): Properties of eigenvalues and eigenvectors👩‍💻**\n",
        "1. Determine whether all of the eigenvalues are non-negative (greater than or equal to 0)\n",
        "2. Verify that the obtained eigenvectors are orthogonal. An efficient way is to use the definition of an orthonormal matrix ($A^ \\top A=I$). Alternatively, you can verify them individually.\n",
        "\n",
        "\n",
        "**Hint**\n",
        "Notice that the values may be slightly imprecise due to the finite precision of numerical representations. You can use `np.isclose`\n",
        " to check whether two values are close to each other or not.\n",
        "\n",
        "3. What is the total variance of the dataset? \n",
        "\n",
        "\n",
        "**Hint**\n",
        "The sum of all eigenvalues should equal the total variance in the original data, however due to numerical imprecision you might get slightly different values.\n",
        "\n",
        "\n",
        "---"
      ]
    },
    {
      "cell_type": "code",
      "id": "qIPmgtcZ0v-UNNKMsIvLb",
      "metadata": {},
      "source": [
        "# Write your solution here"
      ],
      "execution_count": 0,
      "outputs": []
    },
    {
      "cell_type": "markdown",
      "id": "_mM5Apiwxh4KlVJ_s1uFz",
      "metadata": {},
      "source": [
        "\n",
        "---\n",
        "**Task 8 (easy): Sorting Eigenvalues and Eigenvectors👩‍💻**\n",
        "1. Use [np.argsort](https://numpy.org/doc/stable/reference/generated/numpy.argsort.html)\n",
        " to get the list of permutation indices of the eigenvalues in descending order, then sort them. \n",
        "2. Use the list of indices to sort the eigenvectors based on the eigenvalues. \n",
        "3. Plot the sorted eigenvalues. The plot should have a similar shape as the figure below.\n",
        "\n",
        "\n",
        "---"
      ]
    },
    {
      "cell_type": "code",
      "id": "kBmH3Pjin1d8y1AWmk4Ao",
      "metadata": {},
      "source": [
        "# Write your solution here"
      ],
      "execution_count": 0,
      "outputs": []
    },
    {
      "cell_type": "markdown",
      "id": "7QgK6lgE7L3WlTyO2lBMZ",
      "metadata": {},
      "source": [
        "\n",
        "**Info**\n",
        "We can chose to retain a certain percentage of the total variation by selecting the number of principal components where the sum of the eigenvalues correspond to the desired variance. It is convenient to calculate the acummulative sum of the eigenvalues (sum of the variances) to easily determine the number of components needed for retaining a certain percentage of the total variance. This can be achieved using the [`cumsum`\n",
        "](https://numpy.org/doc/stable/reference/generated/numpy.cumsum.html)\n",
        " function. \n",
        "\n",
        "\n",
        "---\n",
        "**Task 9 (easy): Retain variance👩‍💻**\n",
        "Run the cell below to calculate the normalized cumulative explained variance.\n",
        "1. Plot the cumulative variance as in the figure below.\n",
        "2. How many components are needed to retain: $50$%, $80$%, $90$%, $95$% of the variation\n",
        "3. For the following tasks, select $k$ such that $95$% of the variation is retained.\n",
        "\n",
        "\n",
        "---"
      ]
    },
    {
      "cell_type": "code",
      "id": "DetxkG7_RTaiVMqHFG-J1",
      "metadata": {},
      "source": [
        "cumulative_variance_ratio = np.cumsum(sorted_eigenvalues) / np.sum(sorted_eigenvalues)\n",
        "\n",
        "# Write your solution here"
      ],
      "execution_count": 0,
      "outputs": []
    },
    {
      "cell_type": "markdown",
      "id": "Vg5tRHzvLCeFxBUDGi3JO",
      "metadata": {},
      "source": [
        "# PCA - In-class week 2\n",
        "## 4. Mixing parameters\n",
        "The following section describes how much each variable contributes to the selected principal components:\n",
        "\n",
        "---\n",
        "**Task 10 (medium): Mixing parameters👩‍💻**\n",
        "1. Change the cell below to construct the orthonormal $\\Phi$ matrix containing the first $k = 9$ eigenvectors, where:\n",
        "\n",
        "\n",
        "$$\n",
        "{\\Phi} = \n",
        "\\begin{bmatrix}\n",
        "    | & | & \\cdots & | \\\\\n",
        "    \\Phi_1 & \\Phi_2 & \\cdots & \\Phi_9 \\\\\n",
        "    | & | & \\cdots & |\n",
        "\\end{bmatrix}\n",
        "$$\n",
        "2. Define the mixing parameters $m_i = \\sqrt{\\lambda_i} \\Phi_{i} $, where $\\Phi_{i}$ represents the $i$-th column of $\\Phi$ (the selected eigenvectors) and $\\lambda_i$ represents the corresponding eigenvalue. \n",
        "\n",
        "\n",
        "---"
      ]
    },
    {
      "cell_type": "code",
      "id": "M3lgLrRSOs1VxFGFanp5K",
      "metadata": {},
      "source": [
        "# Write your solution here\n",
        "\n",
        "\n",
        "print(mixing_params.shape)"
      ],
      "execution_count": 0,
      "outputs": []
    },
    {
      "cell_type": "markdown",
      "id": "mRBBf0qRKU12-XUlh9r85",
      "metadata": {},
      "source": [
        "\n",
        "---\n",
        "**Task 11 (medium): Plot the mixing parameters💡**\n",
        "1. Run the cell below to plot the contribution of each variable to the principal components. \n",
        "2. Use the plot to describe how each of the principal components make use of the different variables of the pose coordinates in the original data. \n",
        "3. What do positive and negative values in the principal components indicate, and how do they relate to the original data?\n",
        "\n",
        "\n",
        "---"
      ]
    },
    {
      "cell_type": "code",
      "id": "JaoLDB_pPpRfZJKdV5HAF",
      "metadata": {},
      "source": [
        "num_variables = dataset.shape[1]\n",
        "bar_width = 0.4  # Width of the bars\n",
        "\n",
        "# Plotting only the first two principal components\n",
        "plot_pca_loadings(\n",
        "    mixing_params=mixing_params,\n",
        "    dataset=dataset,\n",
        "    bar_width=0.4,\n",
        "    colors=['skyblue', 'salmon'],  \n",
        "    component_indices=[1, 2],      \n",
        "    show_individual=True,\n",
        "    show_combined=True,\n",
        "    save_plots=False               \n",
        ")"
      ],
      "execution_count": 0,
      "outputs": []
    },
    {
      "cell_type": "markdown",
      "id": "QLfNw6qzndzqgry0OJIlq",
      "metadata": {},
      "source": [
        ""
      ]
    },
    {
      "cell_type": "code",
      "id": "A64rZmCS3pZbVNXCmF4tl",
      "metadata": {},
      "source": [
        "# Write your solution here"
      ],
      "execution_count": 0,
      "outputs": []
    },
    {
      "cell_type": "markdown",
      "id": "3FNpm5UZfJa06C8FPMKXC",
      "metadata": {},
      "source": [
        "## 5. Generative process - Projecting to latent space and back\n",
        "The pose data can be mapped to the latent space spanned by the principal components (eigenvectors) by: \n",
        "$$\\Phi^\\top(x-\\mu)$$\n",
        " where \n",
        "\n",
        "$$\n",
        "{\\Phi} = \n",
        "\\begin{bmatrix}\n",
        "    | & | & \\cdots & | \\\\\n",
        "    \\Phi_1 & \\Phi_2 & \\cdots & \\Phi_9 \\\\\n",
        "    | & | & \\cdots & |\n",
        "\\end{bmatrix}\n",
        "$$\n",
        "and $\\Phi_i$ are the eigenvectors.\n",
        "The following steps will implement this process. \n",
        "\n",
        "---\n",
        "**Task 12 (easy): Project to subspace👩‍💻**\n",
        "Run the cell below to center the data. Use the centered data to:\n",
        "1. Project the original data onto the selected eigenvectors using $\\Phi^\\top(x-\\mu)$. \n",
        "\n",
        "2. To plot the projected data.\n",
        "\n",
        "\n",
        "\n",
        "---"
      ]
    },
    {
      "cell_type": "code",
      "id": "W7QKjruUExjKznBwGkox9",
      "metadata": {},
      "source": [
        "# Calculate the mean vector\n",
        "mean_vector = np.mean(dataset, axis=0)\n",
        "\n",
        "# Subtract the mean from each data point\n",
        "centered_data = dataset - mean_vector\n",
        "\n",
        "# Write your solution here\n",
        "\n",
        "\n",
        "plot_pca_pairwise_scatter(\n",
        "    dataset=dataset,\n",
        "    phi=phi,\n",
        "    num_components=9,                \n",
        "    figsize=(10, 10),\n",
        "    marker='.',\n",
        "    xlim=(-1.5, 1.5),\n",
        "    ylim=(-1.5, 1.5),\n",
        "    save_plot=False,                  \n",
        "    save_dir='plots',                 \n",
        "    file_format='png'                 \n",
        ")\n",
        "\n",
        "print(projected_data.T.shape)"
      ],
      "execution_count": 0,
      "outputs": []
    },
    {
      "cell_type": "markdown",
      "id": "CYu7ShcL41iGYywhsajuK",
      "metadata": {},
      "source": [
        "\n",
        "---\n",
        "**Task 13 (easy): Re-project from latent space to original data space👩‍💻**\n",
        "1. Project the data from latent space to the original data space using $\\Phi^\\top x + \\mu$.\n",
        "\n",
        "\n",
        "---"
      ]
    },
    {
      "cell_type": "code",
      "id": "eHkNtnOJOZEnhhbF0hR5S",
      "metadata": {},
      "source": [
        "# Write your solution here\n",
        "\n",
        "\n",
        "print(reconstructed_data.shape)"
      ],
      "execution_count": 0,
      "outputs": []
    },
    {
      "cell_type": "markdown",
      "id": "FOy6UCBIUIwopk4TBICRT",
      "metadata": {},
      "source": [
        "\n",
        "---\n",
        "**Task 14 (medium): Plotting original and reconstructed data👩‍💻**\n",
        "1. Run the cell below to plot the first `nr_of_frames`\n",
        " from the original and the reconstructed data. \n",
        "\n",
        "\n",
        "---"
      ]
    },
    {
      "cell_type": "code",
      "id": "5XFOHCIdPw8XuCDNE8_q6",
      "metadata": {},
      "source": [
        "# Write your solution here\n",
        "\n",
        "\n",
        "# Define the new shape you want (40, 50)\n",
        "nr_of_frames=40\n",
        "new_shape = (nr_of_frames, 50)\n",
        "# Reshape the array to the new shape\n",
        "reshaped_data2 = np.empty(new_shape)\n",
        "reshaped_data3 = np.empty(new_shape)\n",
        "reshaped_data2[:] = dataset[:new_shape[0], :]\n",
        "reshaped_data3[:] = reconstructed_data[:new_shape[0], :]    \n",
        "\n",
        "plot_single_sequence(reshaped_data2,pose_name='Original',color='blue')\n",
        "plot_single_sequence(reshaped_data3,pose_name='Reconstructed',color='red')"
      ],
      "execution_count": 0,
      "outputs": []
    },
    {
      "cell_type": "markdown",
      "id": "HcZJh2b4HVcYLffuMLWe1",
      "metadata": {},
      "source": [
        "\n",
        "---\n",
        "**Task 15 (easy): Plotting original and reconstructed data👩‍💻**\n",
        "1. Use the function below to rerun the analysis. Change the number of components $k = 1,2,4,40 $.\n",
        "\n",
        "\n",
        "---"
      ]
    },
    {
      "cell_type": "code",
      "id": "HgM8SiiN09ivdxIpQbW6G",
      "metadata": {},
      "source": [
        "# function for PCA\n",
        "pca_reconstruction(dataset=dataset, k=9, num_frames=40)"
      ],
      "execution_count": 0,
      "outputs": []
    },
    {
      "cell_type": "markdown",
      "id": "-EE9iXen2eAM1KkfJb0b7",
      "metadata": {},
      "source": [
        ""
      ]
    }
  ]
}